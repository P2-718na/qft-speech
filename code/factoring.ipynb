{
 "cells": [
  {
   "cell_type": "code",
   "execution_count": 4,
   "outputs": [],
   "source": [
    "from qiskit import QuantumRegister, ClassicalRegister, QuantumCircuit, converters\n",
    "from numpy import pi\n",
    "from math import floor, log2"
   ],
   "metadata": {
    "collapsed": false,
    "ExecuteTime": {
     "end_time": "2023-06-06T16:01:07.690137Z",
     "start_time": "2023-06-06T16:01:07.667369Z"
    }
   }
  },
  {
   "cell_type": "code",
   "execution_count": 5,
   "outputs": [
    {
     "name": "stdout",
     "output_type": "stream",
     "text": [
      "12\n"
     ]
    }
   ],
   "source": [
    "N = 15 # Number we want to factor\n",
    "L = 3  # Number of bits needed to represent N\n",
    "epsilon = .02 # todo idk what this is\n",
    "t = 2*L + 1 + floor(1 + log2(2 + 1/(2*epsilon)))  # formula from nielsen for required qbits\n",
    "print(t)"
   ],
   "metadata": {
    "collapsed": false,
    "ExecuteTime": {
     "end_time": "2023-06-06T16:01:08.180346Z",
     "start_time": "2023-06-06T16:01:08.123571Z"
    }
   }
  },
  {
   "cell_type": "code",
   "execution_count": 6,
   "outputs": [],
   "source": [
    "# Algorithm requirements\n",
    "qreg1 = QuantumRegister(t, 'q')\n",
    "qreg2 = QuantumRegister(L, 'qq')\n",
    "\n",
    "circuit_factoring = QuantumCircuit(qreg1, qreg2)\n",
    "\n",
    "# t qbits in state |0>\n",
    "for i in range(t):\n",
    "  circuit_factoring.reset(qreg1[i])\n",
    "\n",
    "# t qbits in state |1>\n",
    "for i in range(L):\n",
    "  circuit_factoring.reset(qreg2[i])\n",
    "  circuit_factoring.x(qreg2[i])\n"
   ],
   "metadata": {
    "collapsed": false,
    "ExecuteTime": {
     "end_time": "2023-06-06T16:01:08.747446Z",
     "start_time": "2023-06-06T16:01:08.723Z"
    }
   }
  },
  {
   "cell_type": "code",
   "execution_count": 7,
   "outputs": [
    {
     "data": {
      "text/plain": "                \n q_0: ─|0>──────\n                \n q_1: ─|0>──────\n                \n q_2: ─|0>──────\n                \n q_3: ─|0>──────\n                \n q_4: ─|0>──────\n                \n q_5: ─|0>──────\n                \n q_6: ─|0>──────\n                \n q_7: ─|0>──────\n                \n q_8: ─|0>──────\n                \n q_9: ─|0>──────\n                \nq_10: ─|0>──────\n                \nq_11: ─|0>──────\n           ┌───┐\nqq_0: ─|0>─┤ X ├\n           ├───┤\nqq_1: ─|0>─┤ X ├\n           ├───┤\nqq_2: ─|0>─┤ X ├\n           └───┘",
      "text/html": "<pre style=\"word-wrap: normal;white-space: pre;background: #fff0;line-height: 1.1;font-family: &quot;Courier New&quot;,Courier,monospace\">                \n q_0: ─|0>──────\n                \n q_1: ─|0>──────\n                \n q_2: ─|0>──────\n                \n q_3: ─|0>──────\n                \n q_4: ─|0>──────\n                \n q_5: ─|0>──────\n                \n q_6: ─|0>──────\n                \n q_7: ─|0>──────\n                \n q_8: ─|0>──────\n                \n q_9: ─|0>──────\n                \nq_10: ─|0>──────\n                \nq_11: ─|0>──────\n           ┌───┐\nqq_0: ─|0>─┤ X ├\n           ├───┤\nqq_1: ─|0>─┤ X ├\n           ├───┤\nqq_2: ─|0>─┤ X ├\n           └───┘</pre>"
     },
     "execution_count": 7,
     "metadata": {},
     "output_type": "execute_result"
    }
   ],
   "source": [
    "circuit_factoring.draw()\n"
   ],
   "metadata": {
    "collapsed": false,
    "ExecuteTime": {
     "end_time": "2023-06-06T16:01:09.378249Z",
     "start_time": "2023-06-06T16:01:09.284325Z"
    }
   }
  },
  {
   "cell_type": "code",
   "execution_count": null,
   "outputs": [],
   "source": [],
   "metadata": {
    "collapsed": false
   }
  }
 ],
 "metadata": {
  "kernelspec": {
   "display_name": "Python 3",
   "language": "python",
   "name": "python3"
  },
  "language_info": {
   "codemirror_mode": {
    "name": "ipython",
    "version": 2
   },
   "file_extension": ".py",
   "mimetype": "text/x-python",
   "name": "python",
   "nbconvert_exporter": "python",
   "pygments_lexer": "ipython2",
   "version": "2.7.6"
  }
 },
 "nbformat": 4,
 "nbformat_minor": 0
}
