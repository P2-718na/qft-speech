{
 "cells": [
  {
   "cell_type": "code",
   "execution_count": 61,
   "metadata": {
    "collapsed": true,
    "ExecuteTime": {
     "end_time": "2023-06-06T16:01:42.657224Z",
     "start_time": "2023-06-06T16:01:42.635709Z"
    }
   },
   "outputs": [],
   "source": [
    "from qiskit import QuantumRegister, ClassicalRegister, QuantumCircuit, converters\n",
    "from numpy import pi\n",
    "from math import floor, log2"
   ]
  },
  {
   "cell_type": "code",
   "execution_count": 62,
   "outputs": [
    {
     "name": "stdout",
     "output_type": "stream",
     "text": [
      "12\n"
     ]
    }
   ],
   "source": [
    "N = 15 # Number we want to factor\n",
    "L = 3  # Number of bits needed to represent N\n",
    "epsilon = .02 # todo idk what this is\n",
    "t = 2*L + 1 + floor(1 + log2(2 + 1/(2*epsilon)))  # formula from nielsen for required qbits\n",
    "print(t)"
   ],
   "metadata": {
    "collapsed": false,
    "ExecuteTime": {
     "end_time": "2023-06-06T16:01:42.804606Z",
     "start_time": "2023-06-06T16:01:42.786534Z"
    }
   }
  },
  {
   "cell_type": "code",
   "execution_count": 63,
   "outputs": [],
   "source": [
    "# blatantly stole qft circuit generator from this:\n",
    "# https://learn.qiskit.org/course/ch-algorithms/quantum-fourier-transform\n",
    "\n",
    "def qft_rotations(circuit, n):\n",
    "    \"\"\"Performs qft on the first n qubits in circuit (without swaps)\"\"\"\n",
    "    if n == 0:\n",
    "        return circuit\n",
    "    n -= 1\n",
    "    circuit.h(n)\n",
    "    for qubit in range(n):\n",
    "        circuit.cp(pi/2**(n-qubit), qubit, n)\n",
    "    # At the end of our function, we call the same function again on\n",
    "    # the next qubits (we reduced n by one earlier in the function)\n",
    "    qft_rotations(circuit, n)\n",
    "\n",
    "def swap_registers(circuit, n):\n",
    "    for qubit in range(n//2):\n",
    "        circuit.swap(qubit, n-qubit-1)\n",
    "    return circuit\n",
    "\n",
    "def qft(circuit, n):\n",
    "    \"\"\"QFT on the first n qubits in circuit\"\"\"\n",
    "    qft_rotations(circuit, n)\n",
    "    swap_registers(circuit, n)\n",
    "    return circuit\n",
    "\n",
    "def inverse_qft(circuit, n):\n",
    "    \"\"\"Does the inverse QFT on the first n qubits in circuit\"\"\"\n",
    "    # First we create a QFT circuit of the correct size:\n",
    "    qft_circ = qft(QuantumCircuit(n), n)\n",
    "    # Then we take the inverse of this circuit\n",
    "    invqft_circ = qft_circ.inverse()\n",
    "    # And add it to the first n qubits in our existing circuit\n",
    "    circuit.append(invqft_circ, circuit.qubits[:n])\n",
    "    return circuit.decompose() # .decompose() allows us to see the individual gates"
   ],
   "metadata": {
    "collapsed": false,
    "ExecuteTime": {
     "end_time": "2023-06-06T16:01:44.463520Z",
     "start_time": "2023-06-06T16:01:44.427232Z"
    }
   }
  },
  {
   "cell_type": "code",
   "execution_count": 64,
   "outputs": [],
   "source": [
    "def qft_gate(n):\n",
    "  qc = QuantumCircuit(n)\n",
    "  qc.name = \"QFT\"\n",
    "  qft(qc, n)\n",
    "  gate = converters.circuit_to_gate(qc)\n",
    "\n",
    "  return gate\n",
    "\n",
    "def inverse_qft_gate(n):\n",
    "  qc = QuantumCircuit(n)\n",
    "  qc.name = \"QFT\"\n",
    "  inverse_qft(qc, n)\n",
    "  gate = converters.circuit_to_gate(qc)\n",
    "\n",
    "  return gate"
   ],
   "metadata": {
    "collapsed": false,
    "ExecuteTime": {
     "end_time": "2023-06-06T16:01:46.233960Z",
     "start_time": "2023-06-06T16:01:46.212638Z"
    }
   }
  },
  {
   "cell_type": "code",
   "execution_count": 33,
   "outputs": [
    {
     "data": {
      "text/plain": "<qiskit.circuit.instructionset.InstructionSet at 0x1163a9c70>"
     },
     "execution_count": 33,
     "metadata": {},
     "output_type": "execute_result"
    }
   ],
   "source": [
    "circuit_order = QuantumCircuit(4)\n",
    "\n",
    "g = qft_gate(4)\n",
    "\n",
    "circuit_order.append(g, range(0, 4))"
   ],
   "metadata": {
    "collapsed": false,
    "ExecuteTime": {
     "end_time": "2023-06-04T17:39:31.643470Z",
     "start_time": "2023-06-04T17:39:31.640419Z"
    }
   }
  },
  {
   "cell_type": "code",
   "execution_count": 35,
   "outputs": [
    {
     "name": "stdout",
     "output_type": "stream",
     "text": [
      "OPENQASM 2.0;\n",
      "include \"qelib1.inc\";\n",
      "gate gate_QFT q0,q1,q2,q3 { h q3; cp(pi/8) q0,q3; cp(pi/4) q1,q3; cp(pi/2) q2,q3; h q2; cp(pi/4) q0,q2; cp(pi/2) q1,q2; h q1; cp(pi/2) q0,q1; h q0; swap q0,q3; swap q1,q2; }\n",
      "qreg q[4];\n",
      "gate_QFT q[0],q[1],q[2],q[3];\n",
      "\n"
     ]
    }
   ],
   "source": [
    "print(qc.qasm())\n"
   ],
   "metadata": {
    "collapsed": false,
    "ExecuteTime": {
     "end_time": "2023-06-04T17:39:52.567396Z",
     "start_time": "2023-06-04T17:39:52.555965Z"
    }
   }
  },
  {
   "cell_type": "code",
   "execution_count": null,
   "outputs": [],
   "source": [],
   "metadata": {
    "collapsed": false
   }
  }
 ],
 "metadata": {
  "kernelspec": {
   "display_name": "Python 3",
   "language": "python",
   "name": "python3"
  },
  "language_info": {
   "codemirror_mode": {
    "name": "ipython",
    "version": 2
   },
   "file_extension": ".py",
   "mimetype": "text/x-python",
   "name": "python",
   "nbconvert_exporter": "python",
   "pygments_lexer": "ipython2",
   "version": "2.7.6"
  }
 },
 "nbformat": 4,
 "nbformat_minor": 0
}
