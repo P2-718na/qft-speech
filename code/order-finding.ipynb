{
 "cells": [
  {
   "cell_type": "code",
   "execution_count": 20,
   "metadata": {
    "collapsed": true,
    "ExecuteTime": {
     "end_time": "2023-06-06T18:45:51.206926Z",
     "start_time": "2023-06-06T18:45:51.197336Z"
    }
   },
   "outputs": [],
   "source": [
    "from qiskit import QuantumRegister, ClassicalRegister, QuantumCircuit, converters\n",
    "from numpy import pi\n",
    "from math import floor, log2"
   ]
  },
  {
   "cell_type": "code",
   "execution_count": 21,
   "outputs": [
    {
     "name": "stdout",
     "output_type": "stream",
     "text": [
      "4\n",
      "12\n"
     ]
    }
   ],
   "source": [
    "N = 15 # Number we want to factor\n",
    "L = floor(log2(N) + 1)  # Number of bits needed to represent N\n",
    "print(L)\n",
    "epsilon = .25 # todo idk what this is\n",
    "t = 2*L + 1 + floor(1 + log2(2 + 1/(2*epsilon)))  # formula from nielsen for required qbits\n",
    "print(t)"
   ],
   "metadata": {
    "collapsed": false,
    "ExecuteTime": {
     "end_time": "2023-06-06T18:45:51.393503Z",
     "start_time": "2023-06-06T18:45:51.365941Z"
    }
   }
  },
  {
   "cell_type": "code",
   "execution_count": 22,
   "outputs": [],
   "source": [
    "# blatantly stole qft circuit generator from this:\n",
    "# https://learn.qiskit.org/course/ch-algorithms/quantum-fourier-transform\n",
    "\n",
    "def qft_rotations(circuit, n):\n",
    "    \"\"\"Performs qft on the first n qubits in circuit (without swaps)\"\"\"\n",
    "    if n == 0:\n",
    "        return circuit\n",
    "    n -= 1\n",
    "    circuit.h(n)\n",
    "    for qubit in range(n):\n",
    "        circuit.cp(pi/2**(n-qubit), qubit, n)\n",
    "    # At the end of our function, we call the same function again on\n",
    "    # the next qubits (we reduced n by one earlier in the function)\n",
    "    qft_rotations(circuit, n)\n",
    "\n",
    "def swap_registers(circuit, n):\n",
    "    for qubit in range(n//2):\n",
    "        circuit.swap(qubit, n-qubit-1)\n",
    "    return circuit\n",
    "\n",
    "def qft(circuit, n):\n",
    "    \"\"\"QFT on the first n qubits in circuit\"\"\"\n",
    "    qft_rotations(circuit, n)\n",
    "    swap_registers(circuit, n)\n",
    "    return circuit\n",
    "\n",
    "def inverse_qft(circuit, n):\n",
    "    \"\"\"Does the inverse QFT on the first n qubits in circuit\"\"\"\n",
    "    # First we create a QFT circuit of the correct size:\n",
    "    qft_circ = qft(QuantumCircuit(n), n)\n",
    "    # Then we take the inverse of this circuit\n",
    "    invqft_circ = qft_circ.inverse()\n",
    "    # And add it to the first n qubits in our existing circuit\n",
    "    circuit.append(invqft_circ, circuit.qubits[:n])\n",
    "    return circuit.decompose() # .decompose() allows us to see the individual gates\n",
    "\n",
    "def qft_gate(n):\n",
    "  qc = QuantumCircuit(n)\n",
    "  qc.name = \"QFT\"\n",
    "  qft(qc, n)\n",
    "  gate = converters.circuit_to_gate(qc)\n",
    "\n",
    "  return gate\n",
    "\n",
    "def inverse_qft_gate(n):\n",
    "  qc = QuantumCircuit(n)\n",
    "  qc.name = \"Inverse QFT\"\n",
    "  inverse_qft(qc, n)\n",
    "  gate = converters.circuit_to_gate(qc)\n",
    "\n",
    "  return gate\n",
    "\n",
    "#fixme make this work for other numbers\n",
    "def c_amod15_gate(a, power):\n",
    "    \"\"\"Controlled multiplication by a mod 15\"\"\"\n",
    "    if a not in [2,4,7,8,11,13]:\n",
    "        raise ValueError(\"'a' must be 2,4,7,8,11 or 13\")\n",
    "    U = QuantumCircuit(4)\n",
    "    if power % 2 != 0:\n",
    "        if a in [2,13]:\n",
    "            U.swap(2,3)\n",
    "            U.swap(1,2)\n",
    "            U.swap(0,1)\n",
    "        if a in [7,8]:\n",
    "            U.swap(0,1)\n",
    "            U.swap(1,2)\n",
    "            U.swap(2,3)\n",
    "        if a in [4, 11]:\n",
    "            U.swap(1,3)\n",
    "            U.swap(0,2)\n",
    "        if a in [7,11,13]:\n",
    "            for q in range(4):\n",
    "                U.x(q)\n",
    "    U = U.to_gate()\n",
    "    U.name = \"y * %i^%i mod 15\" % (a, power)\n",
    "\n",
    "    # I guess you need to apply control more?\n",
    "    c_U = U.control(t)\n",
    "    return c_U"
   ],
   "metadata": {
    "collapsed": false,
    "ExecuteTime": {
     "end_time": "2023-06-06T18:45:51.523802Z",
     "start_time": "2023-06-06T18:45:51.508029Z"
    }
   }
  },
  {
   "cell_type": "code",
   "execution_count": 27,
   "outputs": [
    {
     "data": {
      "text/plain": "<qiskit.circuit.instructionset.InstructionSet at 0x11ca11d60>"
     },
     "execution_count": 27,
     "metadata": {},
     "output_type": "execute_result"
    }
   ],
   "source": [
    "qreg1 = QuantumRegister(t, 'q')\n",
    "qreg2 = QuantumRegister(L, 'qq')\n",
    "creg1 = ClassicalRegister(t, 'c')\n",
    "\n",
    "circuit_order_finding = QuantumCircuit(qreg1, qreg2, creg1)\n",
    "\n",
    "for i in range(t):\n",
    "  circuit_order_finding.reset(qreg1[i])\n",
    "\n",
    "# t qbits in state |1>\n",
    "# Init\n",
    "for i in range(L):\n",
    "  circuit_order_finding.reset(qreg2[i])\n",
    "  circuit_order_finding.x(qreg2[i])\n",
    "\n",
    "# Create superposition, modexp, inverse ft\n",
    "circuit_order_finding.barrier(range(t+L))\n",
    "#[circuit_order_finding.h(range(t)) for i in range(t)] bullshit\n",
    "circuit_order_finding.h(range(t))\n",
    "# basta che x sia co-primo con N\n",
    "# for j in range(2**t): makes no sense\n",
    "circuit_order_finding.append(c_amod15_gate(7, j), range(0, t+L)) #fixme I think this is the wrong algorithm...\n",
    "circuit_order_finding.append(qft_gate(t).inverse(), range(0, t)) #todo inverse_qft_gate not working ??\n",
    "\n",
    "#measure\n",
    "circuit_order_finding.barrier(range(0, t+L))\n",
    "circuit_order_finding.measure(range(t), range(t))\n"
   ],
   "metadata": {
    "collapsed": false,
    "ExecuteTime": {
     "end_time": "2023-06-07T12:49:30.109450Z",
     "start_time": "2023-06-07T12:49:29.916899Z"
    }
   }
  },
  {
   "cell_type": "code",
   "execution_count": 28,
   "outputs": [
    {
     "data": {
      "text/plain": "                 ░ ┌───┐                      ┌──────────┐ ░ ┌─┐               »\n q_0: ─|0>───────░─┤ H ├──────────■───────────┤0         ├─░─┤M├───────────────»\n                 ░ ├───┤          │           │          │ ░ └╥┘┌─┐            »\n q_1: ─|0>───────░─┤ H ├──────────■───────────┤1         ├─░──╫─┤M├────────────»\n                 ░ ├───┤          │           │          │ ░  ║ └╥┘┌─┐         »\n q_2: ─|0>───────░─┤ H ├──────────■───────────┤2         ├─░──╫──╫─┤M├─────────»\n                 ░ ├───┤          │           │          │ ░  ║  ║ └╥┘┌─┐      »\n q_3: ─|0>───────░─┤ H ├──────────■───────────┤3         ├─░──╫──╫──╫─┤M├──────»\n                 ░ ├───┤          │           │          │ ░  ║  ║  ║ └╥┘┌─┐   »\n q_4: ─|0>───────░─┤ H ├──────────■───────────┤4         ├─░──╫──╫──╫──╫─┤M├───»\n                 ░ ├───┤          │           │          │ ░  ║  ║  ║  ║ └╥┘┌─┐»\n q_5: ─|0>───────░─┤ H ├──────────■───────────┤5         ├─░──╫──╫──╫──╫──╫─┤M├»\n                 ░ ├───┤          │           │   QFT_dg │ ░  ║  ║  ║  ║  ║ └╥┘»\n q_6: ─|0>───────░─┤ H ├──────────■───────────┤6         ├─░──╫──╫──╫──╫──╫──╫─»\n                 ░ ├───┤          │           │          │ ░  ║  ║  ║  ║  ║  ║ »\n q_7: ─|0>───────░─┤ H ├──────────■───────────┤7         ├─░──╫──╫──╫──╫──╫──╫─»\n                 ░ ├───┤          │           │          │ ░  ║  ║  ║  ║  ║  ║ »\n q_8: ─|0>───────░─┤ H ├──────────■───────────┤8         ├─░──╫──╫──╫──╫──╫──╫─»\n                 ░ ├───┤          │           │          │ ░  ║  ║  ║  ║  ║  ║ »\n q_9: ─|0>───────░─┤ H ├──────────■───────────┤9         ├─░──╫──╫──╫──╫──╫──╫─»\n                 ░ ├───┤          │           │          │ ░  ║  ║  ║  ║  ║  ║ »\nq_10: ─|0>───────░─┤ H ├──────────■───────────┤10        ├─░──╫──╫──╫──╫──╫──╫─»\n                 ░ ├───┤          │           │          │ ░  ║  ║  ║  ║  ║  ║ »\nq_11: ─|0>───────░─┤ H ├──────────■───────────┤11        ├─░──╫──╫──╫──╫──╫──╫─»\n           ┌───┐ ░ └───┘┌─────────┴──────────┐└──────────┘ ░  ║  ║  ║  ║  ║  ║ »\nqq_0: ─|0>─┤ X ├─░──────┤0                   ├─────────────░──╫──╫──╫──╫──╫──╫─»\n           ├───┤ ░      │                    │             ░  ║  ║  ║  ║  ║  ║ »\nqq_1: ─|0>─┤ X ├─░──────┤1                   ├─────────────░──╫──╫──╫──╫──╫──╫─»\n           ├───┤ ░      │  y * 7^4095 mod 15 │             ░  ║  ║  ║  ║  ║  ║ »\nqq_2: ─|0>─┤ X ├─░──────┤2                   ├─────────────░──╫──╫──╫──╫──╫──╫─»\n           ├───┤ ░      │                    │             ░  ║  ║  ║  ║  ║  ║ »\nqq_3: ─|0>─┤ X ├─░──────┤3                   ├─────────────░──╫──╫──╫──╫──╫──╫─»\n           └───┘ ░      └────────────────────┘             ░  ║  ║  ║  ║  ║  ║ »\nc: 12/════════════════════════════════════════════════════════╩══╩══╩══╩══╩══╩═»\n                                                              0  1  2  3  4  5 »\n«                        \n« q_0: ──────────────────\n«                        \n« q_1: ──────────────────\n«                        \n« q_2: ──────────────────\n«                        \n« q_3: ──────────────────\n«                        \n« q_4: ──────────────────\n«                        \n« q_5: ──────────────────\n«      ┌─┐               \n« q_6: ┤M├───────────────\n«      └╥┘┌─┐            \n« q_7: ─╫─┤M├────────────\n«       ║ └╥┘┌─┐         \n« q_8: ─╫──╫─┤M├─────────\n«       ║  ║ └╥┘┌─┐      \n« q_9: ─╫──╫──╫─┤M├──────\n«       ║  ║  ║ └╥┘┌─┐   \n«q_10: ─╫──╫──╫──╫─┤M├───\n«       ║  ║  ║  ║ └╥┘┌─┐\n«q_11: ─╫──╫──╫──╫──╫─┤M├\n«       ║  ║  ║  ║  ║ └╥┘\n«qq_0: ─╫──╫──╫──╫──╫──╫─\n«       ║  ║  ║  ║  ║  ║ \n«qq_1: ─╫──╫──╫──╫──╫──╫─\n«       ║  ║  ║  ║  ║  ║ \n«qq_2: ─╫──╫──╫──╫──╫──╫─\n«       ║  ║  ║  ║  ║  ║ \n«qq_3: ─╫──╫──╫──╫──╫──╫─\n«       ║  ║  ║  ║  ║  ║ \n«c: 12/═╩══╩══╩══╩══╩══╩═\n«       6  7  8  9  10 11",
      "text/html": "<pre style=\"word-wrap: normal;white-space: pre;background: #fff0;line-height: 1.1;font-family: &quot;Courier New&quot;,Courier,monospace\">                 ░ ┌───┐                      ┌──────────┐ ░ ┌─┐               »\n q_0: ─|0>───────░─┤ H ├──────────■───────────┤0         ├─░─┤M├───────────────»\n                 ░ ├───┤          │           │          │ ░ └╥┘┌─┐            »\n q_1: ─|0>───────░─┤ H ├──────────■───────────┤1         ├─░──╫─┤M├────────────»\n                 ░ ├───┤          │           │          │ ░  ║ └╥┘┌─┐         »\n q_2: ─|0>───────░─┤ H ├──────────■───────────┤2         ├─░──╫──╫─┤M├─────────»\n                 ░ ├───┤          │           │          │ ░  ║  ║ └╥┘┌─┐      »\n q_3: ─|0>───────░─┤ H ├──────────■───────────┤3         ├─░──╫──╫──╫─┤M├──────»\n                 ░ ├───┤          │           │          │ ░  ║  ║  ║ └╥┘┌─┐   »\n q_4: ─|0>───────░─┤ H ├──────────■───────────┤4         ├─░──╫──╫──╫──╫─┤M├───»\n                 ░ ├───┤          │           │          │ ░  ║  ║  ║  ║ └╥┘┌─┐»\n q_5: ─|0>───────░─┤ H ├──────────■───────────┤5         ├─░──╫──╫──╫──╫──╫─┤M├»\n                 ░ ├───┤          │           │   QFT_dg │ ░  ║  ║  ║  ║  ║ └╥┘»\n q_6: ─|0>───────░─┤ H ├──────────■───────────┤6         ├─░──╫──╫──╫──╫──╫──╫─»\n                 ░ ├───┤          │           │          │ ░  ║  ║  ║  ║  ║  ║ »\n q_7: ─|0>───────░─┤ H ├──────────■───────────┤7         ├─░──╫──╫──╫──╫──╫──╫─»\n                 ░ ├───┤          │           │          │ ░  ║  ║  ║  ║  ║  ║ »\n q_8: ─|0>───────░─┤ H ├──────────■───────────┤8         ├─░──╫──╫──╫──╫──╫──╫─»\n                 ░ ├───┤          │           │          │ ░  ║  ║  ║  ║  ║  ║ »\n q_9: ─|0>───────░─┤ H ├──────────■───────────┤9         ├─░──╫──╫──╫──╫──╫──╫─»\n                 ░ ├───┤          │           │          │ ░  ║  ║  ║  ║  ║  ║ »\nq_10: ─|0>───────░─┤ H ├──────────■───────────┤10        ├─░──╫──╫──╫──╫──╫──╫─»\n                 ░ ├───┤          │           │          │ ░  ║  ║  ║  ║  ║  ║ »\nq_11: ─|0>───────░─┤ H ├──────────■───────────┤11        ├─░──╫──╫──╫──╫──╫──╫─»\n           ┌───┐ ░ └───┘┌─────────┴──────────┐└──────────┘ ░  ║  ║  ║  ║  ║  ║ »\nqq_0: ─|0>─┤ X ├─░──────┤0                   ├─────────────░──╫──╫──╫──╫──╫──╫─»\n           ├───┤ ░      │                    │             ░  ║  ║  ║  ║  ║  ║ »\nqq_1: ─|0>─┤ X ├─░──────┤1                   ├─────────────░──╫──╫──╫──╫──╫──╫─»\n           ├───┤ ░      │  y * 7^4095 mod 15 │             ░  ║  ║  ║  ║  ║  ║ »\nqq_2: ─|0>─┤ X ├─░──────┤2                   ├─────────────░──╫──╫──╫──╫──╫──╫─»\n           ├───┤ ░      │                    │             ░  ║  ║  ║  ║  ║  ║ »\nqq_3: ─|0>─┤ X ├─░──────┤3                   ├─────────────░──╫──╫──╫──╫──╫──╫─»\n           └───┘ ░      └────────────────────┘             ░  ║  ║  ║  ║  ║  ║ »\nc: 12/════════════════════════════════════════════════════════╩══╩══╩══╩══╩══╩═»\n                                                              0  1  2  3  4  5 »\n«                        \n« q_0: ──────────────────\n«                        \n« q_1: ──────────────────\n«                        \n« q_2: ──────────────────\n«                        \n« q_3: ──────────────────\n«                        \n« q_4: ──────────────────\n«                        \n« q_5: ──────────────────\n«      ┌─┐               \n« q_6: ┤M├───────────────\n«      └╥┘┌─┐            \n« q_7: ─╫─┤M├────────────\n«       ║ └╥┘┌─┐         \n« q_8: ─╫──╫─┤M├─────────\n«       ║  ║ └╥┘┌─┐      \n« q_9: ─╫──╫──╫─┤M├──────\n«       ║  ║  ║ └╥┘┌─┐   \n«q_10: ─╫──╫──╫──╫─┤M├───\n«       ║  ║  ║  ║ └╥┘┌─┐\n«q_11: ─╫──╫──╫──╫──╫─┤M├\n«       ║  ║  ║  ║  ║ └╥┘\n«qq_0: ─╫──╫──╫──╫──╫──╫─\n«       ║  ║  ║  ║  ║  ║ \n«qq_1: ─╫──╫──╫──╫──╫──╫─\n«       ║  ║  ║  ║  ║  ║ \n«qq_2: ─╫──╫──╫──╫──╫──╫─\n«       ║  ║  ║  ║  ║  ║ \n«qq_3: ─╫──╫──╫──╫──╫──╫─\n«       ║  ║  ║  ║  ║  ║ \n«c: 12/═╩══╩══╩══╩══╩══╩═\n«       6  7  8  9  10 11</pre>"
     },
     "execution_count": 28,
     "metadata": {},
     "output_type": "execute_result"
    }
   ],
   "source": [
    "circuit_order_finding.draw()"
   ],
   "metadata": {
    "collapsed": false,
    "ExecuteTime": {
     "end_time": "2023-06-07T12:49:31.533009Z",
     "start_time": "2023-06-07T12:49:31.319097Z"
    }
   }
  },
  {
   "cell_type": "code",
   "execution_count": 17,
   "outputs": [],
   "source": [],
   "metadata": {
    "collapsed": false,
    "ExecuteTime": {
     "end_time": "2023-06-06T18:42:37.949168Z",
     "start_time": "2023-06-06T18:42:37.916522Z"
    }
   }
  },
  {
   "cell_type": "code",
   "execution_count": null,
   "outputs": [],
   "source": [],
   "metadata": {
    "collapsed": false
   }
  }
 ],
 "metadata": {
  "kernelspec": {
   "display_name": "Python 3",
   "language": "python",
   "name": "python3"
  },
  "language_info": {
   "codemirror_mode": {
    "name": "ipython",
    "version": 2
   },
   "file_extension": ".py",
   "mimetype": "text/x-python",
   "name": "python",
   "nbconvert_exporter": "python",
   "pygments_lexer": "ipython2",
   "version": "2.7.6"
  }
 },
 "nbformat": 4,
 "nbformat_minor": 0
}
