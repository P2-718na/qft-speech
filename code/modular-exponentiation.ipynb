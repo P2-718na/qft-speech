{
 "cells": [
  {
   "cell_type": "code",
   "execution_count": 1,
   "metadata": {
    "collapsed": true,
    "ExecuteTime": {
     "end_time": "2023-06-06T16:27:14.686514Z",
     "start_time": "2023-06-06T16:27:13.292671Z"
    }
   },
   "outputs": [],
   "source": [
    "from qiskit import QuantumRegister, ClassicalRegister, QuantumCircuit, converters\n",
    "from numpy import pi\n",
    "from math import floor, log2\n"
   ]
  },
  {
   "cell_type": "code",
   "execution_count": 2,
   "outputs": [
    {
     "name": "stdout",
     "output_type": "stream",
     "text": [
      "12\n"
     ]
    }
   ],
   "source": [
    "N = 15 # Number we want to factor\n",
    "L = 3  # Number of bits needed to represent N\n",
    "epsilon = .02 # todo idk what this is\n",
    "t = 2*L + 1 + floor(1 + log2(2 + 1/(2*epsilon)))  # formula from nielsen for required qbits\n",
    "print(t)"
   ],
   "metadata": {
    "collapsed": false,
    "ExecuteTime": {
     "end_time": "2023-06-06T16:27:14.739478Z",
     "start_time": "2023-06-06T16:27:14.694576Z"
    }
   }
  },
  {
   "cell_type": "code",
   "execution_count": 16,
   "outputs": [],
   "source": [
    "# blatantly stole qft circuit generator from this:\n",
    "# https://learn.qiskit.org/course/ch-algorithms/quantum-fourier-transform\n",
    "\n",
    "# stolen from https://quantumcomputing.stackexchange.com/questions/29647/trying-to-construct-modular-exponentiation-gate-in-qiskit\n",
    "# todo need to actually implement something.\n",
    "# Basically, fix N (number to factor) and create modexp gate based on that.\n",
    "# lucky me this code is for 15 lol ggez\n",
    "# fixme uhh control\n",
    "def c_amod15_gate(a, power):\n",
    "    \"\"\"Controlled multiplication by a mod 15\"\"\"\n",
    "    if a not in [2,4,7,8,11,13]:\n",
    "        raise ValueError(\"'a' must be 2,4,7,8,11 or 13\")\n",
    "    U = QuantumCircuit(4)\n",
    "    for iteration in range(power):\n",
    "        if a in [2,13]:\n",
    "            U.swap(2,3)\n",
    "            U.swap(1,2)\n",
    "            U.swap(0,1)\n",
    "        if a in [7,8]:\n",
    "            U.swap(0,1)\n",
    "            U.swap(1,2)\n",
    "            U.swap(2,3)\n",
    "        if a in [4, 11]:\n",
    "            U.swap(1,3)\n",
    "            U.swap(0,2)\n",
    "        if a in [7,11,13]:\n",
    "            for q in range(4):\n",
    "                U.x(q)\n",
    "    U = U.to_gate()\n",
    "    U.name = \"y * %i^%i mod 15\" % (a, power)\n",
    "\n",
    "    # I guess you need to apply control more?\n",
    "    c_U = U.control()\n",
    "    return c_U\n",
    "\n",
    "def modexp(circuit, n):\n",
    "   pass\n",
    "\n",
    "def modexp_gate(n):\n",
    "  qc = QuantumCircuit(n)\n",
    "  qc.name = \"QFT\"\n",
    "  modexp(qc, n)\n",
    "  gate = converters.circuit_to_gate(qc)\n",
    "\n",
    "  return gate\n"
   ],
   "metadata": {
    "collapsed": false,
    "ExecuteTime": {
     "end_time": "2023-06-06T17:14:16.033757Z",
     "start_time": "2023-06-06T17:14:16.021264Z"
    }
   }
  },
  {
   "cell_type": "code",
   "execution_count": 37,
   "outputs": [
    {
     "data": {
      "text/plain": "        ┌───┐                    ░ ┌─┐            \n   q_0: ┤ X ├─────────■──────────░─┤M├────────────\n        ├───┤┌────────┴────────┐ ░ └╥┘┌─┐         \n   q_1: ┤ X ├┤0                ├─░──╫─┤M├─────────\n        └───┘│                 │ ░  ║ └╥┘┌─┐      \n   q_2: ─────┤1                ├─░──╫──╫─┤M├──────\n             │  y * 4^2 mod 15 │ ░  ║  ║ └╥┘┌─┐   \n   q_3: ─────┤2                ├─░──╫──╫──╫─┤M├───\n             │                 │ ░  ║  ║  ║ └╥┘┌─┐\n   q_4: ─────┤3                ├─░──╫──╫──╫──╫─┤M├\n             └─────────────────┘ ░  ║  ║  ║  ║ └╥┘\nmeas: 5/════════════════════════════╩══╩══╩══╩══╩═\n                                    0  1  2  3  4 ",
      "text/html": "<pre style=\"word-wrap: normal;white-space: pre;background: #fff0;line-height: 1.1;font-family: &quot;Courier New&quot;,Courier,monospace\">        ┌───┐                    ░ ┌─┐            \n   q_0: ┤ X ├─────────■──────────░─┤M├────────────\n        ├───┤┌────────┴────────┐ ░ └╥┘┌─┐         \n   q_1: ┤ X ├┤0                ├─░──╫─┤M├─────────\n        └───┘│                 │ ░  ║ └╥┘┌─┐      \n   q_2: ─────┤1                ├─░──╫──╫─┤M├──────\n             │  y * 4^2 mod 15 │ ░  ║  ║ └╥┘┌─┐   \n   q_3: ─────┤2                ├─░──╫──╫──╫─┤M├───\n             │                 │ ░  ║  ║  ║ └╥┘┌─┐\n   q_4: ─────┤3                ├─░──╫──╫──╫──╫─┤M├\n             └─────────────────┘ ░  ║  ║  ║  ║ └╥┘\nmeas: 5/════════════════════════════╩══╩══╩══╩══╩═\n                                    0  1  2  3  4 </pre>"
     },
     "execution_count": 37,
     "metadata": {},
     "output_type": "execute_result"
    }
   ],
   "source": [
    "circ = QuantumCircuit(5)\n",
    "gate = c_amod15_gate(4, 2)\n",
    "circ.x(0)\n",
    "circ.x(1) #lsb\n",
    "#[circ.x(i) for i in range(1, 5)]\n",
    "circ.append(gate, range(0, 5))\n",
    "circ.measure_all()\n",
    "circ.draw()"
   ],
   "metadata": {
    "collapsed": false,
    "ExecuteTime": {
     "end_time": "2023-06-06T17:21:47.589930Z",
     "start_time": "2023-06-06T17:21:47.551420Z"
    }
   }
  },
  {
   "cell_type": "code",
   "execution_count": 30,
   "outputs": [],
   "source": [
    "from qiskit import Aer, transpile\n",
    "from qiskit.tools.visualization import plot_histogram, plot_state_city"
   ],
   "metadata": {
    "collapsed": false,
    "ExecuteTime": {
     "end_time": "2023-06-06T17:18:41.448716Z",
     "start_time": "2023-06-06T17:18:41.433521Z"
    }
   }
  },
  {
   "cell_type": "code",
   "execution_count": 38,
   "outputs": [
    {
     "data": {
      "text/plain": "<Figure size 700x500 with 1 Axes>",
      "image/png": "[encoded data removed]"
     },
     "execution_count": 38,
     "metadata": {},
     "output_type": "execute_result"
    }
   ],
   "source": [
    "simulator = Aer.get_backend('aer_simulator')\n",
    "transpiled_circ = transpile(circ, simulator)\n",
    "result = simulator.run(transpiled_circ).result()\n",
    "counts = result.get_counts(transpiled_circ)\n",
    "plot_histogram(counts, title='Bell-State counts')\n",
    "# ignore number on right i dont know how to do this without measure_all"
   ],
   "metadata": {
    "collapsed": false,
    "ExecuteTime": {
     "end_time": "2023-06-06T17:22:05.706785Z",
     "start_time": "2023-06-06T17:22:05.509729Z"
    }
   }
  },
  {
   "cell_type": "code",
   "execution_count": null,
   "outputs": [],
   "source": [
    "# ok, This appears to work\n"
   ],
   "metadata": {
    "collapsed": false
   }
  }
 ],
 "metadata": {
  "kernelspec": {
   "display_name": "Python 3",
   "language": "python",
   "name": "python3"
  },
  "language_info": {
   "codemirror_mode": {
    "name": "ipython",
    "version": 2
   },
   "file_extension": ".py",
   "mimetype": "text/x-python",
   "name": "python",
   "nbconvert_exporter": "python",
   "pygments_lexer": "ipython2",
   "version": "2.7.6"
  }
 },
 "nbformat": 4,
 "nbformat_minor": 0
}
