{
 "cells": [
  {
   "cell_type": "code",
   "execution_count": 34,
   "outputs": [
    {
     "name": "stdout",
     "output_type": "stream",
     "text": [
      "The dotenv extension is already loaded. To reload it, use:\n",
      "  %reload_ext dotenv\n"
     ]
    }
   ],
   "source": [
    "from qiskit_ibm_runtime import QiskitRuntimeService\n",
    "\n",
    "# Load env variables\n",
    "%load_ext dotenv\n",
    "%dotenv\n",
    "from os import environ as env"
   ],
   "metadata": {
    "collapsed": false,
    "ExecuteTime": {
     "end_time": "2023-06-08T08:18:48.143456Z",
     "start_time": "2023-06-08T08:18:48.120872Z"
    }
   }
  },
  {
   "cell_type": "code",
   "execution_count": 46,
   "outputs": [],
   "source": [
    "# QiskitRuntimeService.save_account(channel=\"ibm_quantum\", token=env[\"IBM_TOKEN\"])\n",
    "# QiskitRuntimeService.save_account(channel=\"ibm_cloud\", token=env[\"IBM_APIKEY\"], instance=env[\"IBM_CRN\"])"
   ],
   "metadata": {
    "collapsed": false,
    "ExecuteTime": {
     "end_time": "2023-06-08T08:30:58.968831Z",
     "start_time": "2023-06-08T08:30:58.950887Z"
    }
   }
  },
  {
   "cell_type": "markdown",
   "source": [
    "# Ogni esecuzione di questa cella costa 2€"
   ],
   "metadata": {
    "collapsed": false
   }
  },
  {
   "cell_type": "code",
   "execution_count": 55,
   "outputs": [
    {
     "name": "stdout",
     "output_type": "stream",
     "text": [
      "job id: ci0pl4598runv7f2muh0\n",
      "SamplerResult(quasi_dists=[{0: 0.5005, 3: 0.4995}], metadata=[{'shots': 4000}])\n"
     ]
    }
   ],
   "source": [
    "from qiskit.test.reference_circuits import ReferenceCircuits\n",
    "from qiskit_ibm_runtime import QiskitRuntimeService, Sampler\n",
    "\n",
    "# You'll need to specify the credentials when initializing QiskitRuntimeService, if they are not previously saved.\n",
    "service = QiskitRuntimeService(\"ibm_cloud\") # QUesto decide cosa puoi fare e dove ti compare il job (ibm quantum/ pagina della risorsa su ibm cloud)\n",
    "#backend = service.backend(\"ibm_canberra\") # Questo costa.\n",
    "backend = service.backend(\"ibmq_qasm_simulator\") # Questo è free.\n",
    "job = Sampler(backend).run(ReferenceCircuits.bell())\n",
    "print(f\"job id: {job.job_id()}\")\n",
    "result = job.result()\n",
    "print(result)"
   ],
   "metadata": {
    "collapsed": false,
    "ExecuteTime": {
     "end_time": "2023-06-08T09:08:33.205666Z",
     "start_time": "2023-06-08T09:07:59.957702Z"
    }
   }
  },
  {
   "cell_type": "code",
   "execution_count": null,
   "outputs": [],
   "source": [],
   "metadata": {
    "collapsed": false
   }
  }
 ],
 "metadata": {
  "kernelspec": {
   "display_name": "Python 3",
   "language": "python",
   "name": "python3"
  },
  "language_info": {
   "codemirror_mode": {
    "name": "ipython",
    "version": 2
   },
   "file_extension": ".py",
   "mimetype": "text/x-python",
   "name": "python",
   "nbconvert_exporter": "python",
   "pygments_lexer": "ipython2",
   "version": "2.7.6"
  }
 },
 "nbformat": 4,
 "nbformat_minor": 0
}
